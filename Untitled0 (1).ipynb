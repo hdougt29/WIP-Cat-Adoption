{
  "nbformat": 4,
  "nbformat_minor": 0,
  "metadata": {
    "colab": {
      "provenance": []
    },
    "kernelspec": {
      "name": "python3",
      "display_name": "Python 3"
    },
    "language_info": {
      "name": "python"
    }
  },
  "cells": [
    {
      "cell_type": "code",
      "source": [
        "# Ask the user if they want to adopt a cat\n",
        "adopt_cat = input(\"Would you like to adopt a cat? (yes/no) \")\n",
        "\n",
        "# If the user doesn't want to adopt a cat, end the quiz and display a message\n",
        "if adopt_cat == \"no\":\n",
        "  print(\"Ok, please ask an associate before opening animal cages.\")\n",
        "else:\n",
        "  # Ask the user if they plan on de-clawing the cat\n",
        "  de_claw = input(\"Do you plan on de-clawing the cat? (yes/no) \")\n",
        "\n",
        "  # If the user plans on de-clawing the cat, end the quiz and display a message\n",
        "  if de_claw == \"yes\":\n",
        "    print(\"Sorry, we don't adopt to ignorant sluts.\")\n",
        "  else:\n",
        "    # Ask the user if they have other cats at home\n",
        "    other_cats = input(\"Do you have other cats at home? (yes/no) \")\n",
        "\n",
        "    # If the user has other cats, ask how many\n",
        "    if other_cats == \"yes\":\n",
        "      num_cats = input(\"How many other cats in the household? \")\n",
        "\n",
        "    # Print the results\n",
        "    print(\"You want to adopt a cat:\", adopt_cat)\n",
        "    print(\"You plan on de-clawing the cat:\", de_claw)\n",
        "    print(\"You have other cats at home:\", other_cats)\n",
        "    if other_cats == \"yes\":\n",
        "      print(\"Number of other cats:\", num_cats)"
      ],
      "metadata": {
        "colab": {
          "base_uri": "https://localhost:8080/"
        },
        "id": "3kQEcpfkQXoB",
        "outputId": "55d9c912-e107-4cc8-f275-63d717abc671"
      },
      "execution_count": 15,
      "outputs": [
        {
          "output_type": "stream",
          "name": "stdout",
          "text": [
            "Would you like to adopt a cat? (yes/no) yes\n",
            "Do you plan on de-clawing the cat? (yes/no) no\n",
            "Do you have other cats at home? (yes/no) yes\n",
            "How many other cats in the household? 5\n",
            "You want to adopt a cat: yes\n",
            "You plan on de-clawing the cat: no\n",
            "You have other cats at home: yes\n",
            "Number of other cats: 5\n"
          ]
        }
      ]
    }
  ]
}